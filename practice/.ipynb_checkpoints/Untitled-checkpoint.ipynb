{
 "cells": [
  {
   "cell_type": "code",
   "execution_count": null,
   "id": "0d6e6b1e-065f-41f2-9d0d-1bc2067683ab",
   "metadata": {},
   "outputs": [],
   "source": [
    "import numpy as np\n",
    "from scipy.signal import butter, lfilter\n",
    "import matplotlib.pyplot as plt\n",
    "from scipy.io import wavfile\n",
    "\n",
    "# Function to create a low-pass filter\n",
    "def butter_lowpass(cutoff, fs, order=5):\n",
    "    nyquist = 0.5 * fs\n",
    "    normal_cutoff = cutoff / nyquist\n",
    "    b, a = butter(order, normal_cutoff, btype='low', analog=False)\n",
    "    return b, a\n",
    "\n",
    "# Function to apply the filter\n",
    "def lfilter_data(data, cutoff, fs, order=5):\n",
    "    b, a = butter_lowpass(cutoff, fs, order=order)\n",
    "    y = lfilter(b, a, data)\n",
    "    return y\n",
    "\n",
    "# Read the audio file\n",
    "fs, data = wavfile.read('audio.wav')\n",
    "\n",
    "# Define filter parameters\n",
    "cutoff = 1000.0  # The frequency where the filter will start blocking higher sounds\n",
    "order = 6\n",
    "\n",
    "# Filter the data\n",
    "filtered_data = lfilter_data(data, cutoff, fs, order)\n",
    "\n",
    "# Save the filtered audio\n",
    "wavfile.write('filtered_audio.wav', fs, filtered_data.astype(np.int16))\n",
    "\n",
    "# Plot the original and filtered signals\n",
    "plt.figure()\n",
    "plt.subplot(2, 1, 1)\n",
    "plt.plot(data)\n",
    "plt.title('Original Signal')\n",
    "plt.subplot(2, 1, 2)\n",
    "plt.plot(filtered_data)\n",
    "plt.title('Filtered Signal')\n",
    "plt.show()\n"
   ]
  }
 ],
 "metadata": {
  "kernelspec": {
   "display_name": "Python 3 (ipykernel)",
   "language": "python",
   "name": "python3"
  },
  "language_info": {
   "codemirror_mode": {
    "name": "ipython",
    "version": 3
   },
   "file_extension": ".py",
   "mimetype": "text/x-python",
   "name": "python",
   "nbconvert_exporter": "python",
   "pygments_lexer": "ipython3",
   "version": "3.11.7"
  }
 },
 "nbformat": 4,
 "nbformat_minor": 5
}
